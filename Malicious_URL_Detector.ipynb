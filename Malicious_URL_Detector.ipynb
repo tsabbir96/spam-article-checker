{
  "nbformat": 4,
  "nbformat_minor": 0,
  "metadata": {
    "colab": {
      "name": "Malicious URL Detector.ipynb",
      "provenance": [],
      "collapsed_sections": [],
      "authorship_tag": "ABX9TyM2L4UTwC0jwRYVIC7TgpQj",
      "include_colab_link": true
    },
    "kernelspec": {
      "name": "python3",
      "display_name": "Python 3"
    }
  },
  "cells": [
    {
      "cell_type": "markdown",
      "metadata": {
        "id": "view-in-github",
        "colab_type": "text"
      },
      "source": [
        "<a href=\"https://colab.research.google.com/github/tsabbir96/spam-article-checker/blob/main/Malicious_URL_Detector.ipynb\" target=\"_parent\"><img src=\"https://colab.research.google.com/assets/colab-badge.svg\" alt=\"Open In Colab\"/></a>"
      ]
    },
    {
      "cell_type": "code",
      "metadata": {
        "id": "kL57LKmPJtZn",
        "colab": {
          "base_uri": "https://localhost:8080/",
          "height": 122
        },
        "outputId": "18e41694-9737-4794-83d4-34649b8bfe73"
      },
      "source": [
        "#import the necessary libraries\n",
        "from functools import wraps\n",
        "from flask import Flask\n",
        "from flask import request, Response\n",
        "from subprocess import call\n",
        "from flask import render_template\n",
        "import pickle\n",
        "\n",
        "from sklearn.feature_extraction.text import CountVectorizer\n",
        "from sklearn.model_selection import train_test_split\n",
        "import pandas as pd\n",
        "import numpy as np\n",
        "import random\n",
        "from sklearn.feature_extraction.text import TfidfVectorizer\n",
        "import sys\n",
        "import os\n",
        "from sklearn import model_selection, naive_bayes, svm\n",
        "from sklearn.linear_model import LogisticRegression\n",
        "from sklearn.ensemble import RandomForestClassifier\n",
        "from sklearn.metrics import accuracy_score\n",
        "import math\n",
        "from collections import Counter\n",
        "\n",
        "app = Flask(__name__)\n",
        "\n",
        "from google.colab import drive\n",
        "drive.mount(\"/content/gdrive\")\n"
      ],
      "execution_count": null,
      "outputs": [
        {
          "output_type": "stream",
          "text": [
            "Go to this URL in a browser: https://accounts.google.com/o/oauth2/auth?client_id=947318989803-6bn6qk8qdgf4n4g3pfee6491hc0brc4i.apps.googleusercontent.com&redirect_uri=urn%3aietf%3awg%3aoauth%3a2.0%3aoob&response_type=code&scope=email%20https%3a%2f%2fwww.googleapis.com%2fauth%2fdocs.test%20https%3a%2f%2fwww.googleapis.com%2fauth%2fdrive%20https%3a%2f%2fwww.googleapis.com%2fauth%2fdrive.photos.readonly%20https%3a%2f%2fwww.googleapis.com%2fauth%2fpeopleapi.readonly\n",
            "\n",
            "Enter your authorization code:\n",
            "··········\n",
            "Mounted at /content/gdrive\n"
          ],
          "name": "stdout"
        }
      ]
    },
    {
      "cell_type": "code",
      "metadata": {
        "id": "fYnLSMfwRcN9"
      },
      "source": [
        "#create tokenizer\n",
        "def getTokens(input):\n",
        "\ttokensBySlash = str(input.encode('utf-8')).split('/')\t#get tokens after splitting by slash\n",
        "\tallTokens = []\n",
        "\tfor i in tokensBySlash:\n",
        "\t\ttokens = str(i).split('-')\t#get tokens after splitting by dash\n",
        "\t\ttokensByDot = []\n",
        "\t\tfor j in range(0,len(tokens)):\n",
        "\t\t\ttempTokens = str(tokens[j]).split('.')\t#get tokens after splitting by dot\n",
        "\t\t\ttokensByDot = tokensByDot + tempTokens\n",
        "\t\tallTokens = allTokens + tokens + tokensByDot\n",
        "\tallTokens = list(set(allTokens))\t#remove redundant tokens\n",
        "\tif 'com' in allTokens:\n",
        "\t\tallTokens.remove('com')\t#removing .com since it occurs a lot of times and it should not be included in our features\n",
        "\treturn allTokens\n",
        "\n",
        "\n",
        "\t"
      ],
      "execution_count": null,
      "outputs": []
    },
    {
      "cell_type": "code",
      "metadata": {
        "id": "uqSFq_WG5wks",
        "colab": {
          "base_uri": "https://localhost:8080/",
          "height": 419
        },
        "outputId": "b6a2f558-b0a0-4ce3-9ecf-84f1fe4b75cb"
      },
      "source": [
        "allurlsdata = pd.read_csv('./gdrive/My Drive/urldata.csv')\n",
        "allurlsdata\n",
        "\n"
      ],
      "execution_count": null,
      "outputs": [
        {
          "output_type": "execute_result",
          "data": {
            "text/html": [
              "<div>\n",
              "<style scoped>\n",
              "    .dataframe tbody tr th:only-of-type {\n",
              "        vertical-align: middle;\n",
              "    }\n",
              "\n",
              "    .dataframe tbody tr th {\n",
              "        vertical-align: top;\n",
              "    }\n",
              "\n",
              "    .dataframe thead th {\n",
              "        text-align: right;\n",
              "    }\n",
              "</style>\n",
              "<table border=\"1\" class=\"dataframe\">\n",
              "  <thead>\n",
              "    <tr style=\"text-align: right;\">\n",
              "      <th></th>\n",
              "      <th>Unnamed: 0</th>\n",
              "      <th>url</th>\n",
              "      <th>label</th>\n",
              "      <th>result</th>\n",
              "    </tr>\n",
              "  </thead>\n",
              "  <tbody>\n",
              "    <tr>\n",
              "      <th>0</th>\n",
              "      <td>0</td>\n",
              "      <td>https://www.google.com</td>\n",
              "      <td>benign</td>\n",
              "      <td>0</td>\n",
              "    </tr>\n",
              "    <tr>\n",
              "      <th>1</th>\n",
              "      <td>1</td>\n",
              "      <td>https://www.youtube.com</td>\n",
              "      <td>benign</td>\n",
              "      <td>0</td>\n",
              "    </tr>\n",
              "    <tr>\n",
              "      <th>2</th>\n",
              "      <td>2</td>\n",
              "      <td>https://www.facebook.com</td>\n",
              "      <td>benign</td>\n",
              "      <td>0</td>\n",
              "    </tr>\n",
              "    <tr>\n",
              "      <th>3</th>\n",
              "      <td>3</td>\n",
              "      <td>https://www.baidu.com</td>\n",
              "      <td>benign</td>\n",
              "      <td>0</td>\n",
              "    </tr>\n",
              "    <tr>\n",
              "      <th>4</th>\n",
              "      <td>4</td>\n",
              "      <td>https://www.wikipedia.org</td>\n",
              "      <td>benign</td>\n",
              "      <td>0</td>\n",
              "    </tr>\n",
              "    <tr>\n",
              "      <th>...</th>\n",
              "      <td>...</td>\n",
              "      <td>...</td>\n",
              "      <td>...</td>\n",
              "      <td>...</td>\n",
              "    </tr>\n",
              "    <tr>\n",
              "      <th>450171</th>\n",
              "      <td>450171</td>\n",
              "      <td>http://ecct-it.com/docmmmnn/aptgd/index.php</td>\n",
              "      <td>malicious</td>\n",
              "      <td>1</td>\n",
              "    </tr>\n",
              "    <tr>\n",
              "      <th>450172</th>\n",
              "      <td>450172</td>\n",
              "      <td>http://faboleena.com/js/infortis/jquery/plugin...</td>\n",
              "      <td>malicious</td>\n",
              "      <td>1</td>\n",
              "    </tr>\n",
              "    <tr>\n",
              "      <th>450173</th>\n",
              "      <td>450173</td>\n",
              "      <td>http://faboleena.com/js/infortis/jquery/plugin...</td>\n",
              "      <td>malicious</td>\n",
              "      <td>1</td>\n",
              "    </tr>\n",
              "    <tr>\n",
              "      <th>450174</th>\n",
              "      <td>450174</td>\n",
              "      <td>http://atualizapj.com/</td>\n",
              "      <td>malicious</td>\n",
              "      <td>1</td>\n",
              "    </tr>\n",
              "    <tr>\n",
              "      <th>450175</th>\n",
              "      <td>450175</td>\n",
              "      <td>http://writeassociate.com/test/Portal/inicio/I...</td>\n",
              "      <td>malicious</td>\n",
              "      <td>1</td>\n",
              "    </tr>\n",
              "  </tbody>\n",
              "</table>\n",
              "<p>450176 rows × 4 columns</p>\n",
              "</div>"
            ],
            "text/plain": [
              "        Unnamed: 0  ... result\n",
              "0                0  ...      0\n",
              "1                1  ...      0\n",
              "2                2  ...      0\n",
              "3                3  ...      0\n",
              "4                4  ...      0\n",
              "...            ...  ...    ...\n",
              "450171      450171  ...      1\n",
              "450172      450172  ...      1\n",
              "450173      450173  ...      1\n",
              "450174      450174  ...      1\n",
              "450175      450175  ...      1\n",
              "\n",
              "[450176 rows x 4 columns]"
            ]
          },
          "metadata": {
            "tags": []
          },
          "execution_count": 3
        }
      ]
    },
    {
      "cell_type": "code",
      "metadata": {
        "id": "11Vk37os543b",
        "colab": {
          "base_uri": "https://localhost:8080/",
          "height": 102
        },
        "outputId": "a1e4718e-ae46-4c31-d2e0-1a3fe4597f05"
      },
      "source": [
        "## Checking for Missing values\n",
        "allurlsdata.isnull().sum()\n"
      ],
      "execution_count": null,
      "outputs": [
        {
          "output_type": "execute_result",
          "data": {
            "text/plain": [
              "Unnamed: 0    0\n",
              "url           0\n",
              "label         0\n",
              "result        0\n",
              "dtype: int64"
            ]
          },
          "metadata": {
            "tags": []
          },
          "execution_count": 4
        }
      ]
    },
    {
      "cell_type": "code",
      "metadata": {
        "id": "H0zs1S3i7SZ0",
        "colab": {
          "base_uri": "https://localhost:8080/",
          "height": 34
        },
        "outputId": "a6819e72-0f71-4d8c-b7a1-69609193ad29"
      },
      "source": [
        "# dropping ALL duplicte values \n",
        "allurlsdata.drop_duplicates(subset =\"url\", \n",
        "                     keep = False, inplace = True)\n",
        "allurlsdata.shape"
      ],
      "execution_count": null,
      "outputs": [
        {
          "output_type": "execute_result",
          "data": {
            "text/plain": [
              "(450176, 4)"
            ]
          },
          "metadata": {
            "tags": []
          },
          "execution_count": 5
        }
      ]
    },
    {
      "cell_type": "code",
      "metadata": {
        "id": "wWm3cYPs7YpG"
      },
      "source": [
        "# Change all the text to lower case.\n",
        "allurlsdata['url'] = [entry.lower() for entry in allurlsdata['url']]"
      ],
      "execution_count": null,
      "outputs": []
    },
    {
      "cell_type": "code",
      "metadata": {
        "id": "NjTrInfHKwRi",
        "colab": {
          "base_uri": "https://localhost:8080/",
          "height": 419
        },
        "outputId": "cf9cbfbb-1941-485e-bb3f-5726d7ec88be"
      },
      "source": [
        "m = allurlsdata[allurlsdata[\"label\"] == \"malicious\" ]\n",
        "m5k = (m.head(5000)).reset_index() #take first 5000 rows and create a dataframe\n",
        "m5k "
      ],
      "execution_count": null,
      "outputs": [
        {
          "output_type": "execute_result",
          "data": {
            "text/html": [
              "<div>\n",
              "<style scoped>\n",
              "    .dataframe tbody tr th:only-of-type {\n",
              "        vertical-align: middle;\n",
              "    }\n",
              "\n",
              "    .dataframe tbody tr th {\n",
              "        vertical-align: top;\n",
              "    }\n",
              "\n",
              "    .dataframe thead th {\n",
              "        text-align: right;\n",
              "    }\n",
              "</style>\n",
              "<table border=\"1\" class=\"dataframe\">\n",
              "  <thead>\n",
              "    <tr style=\"text-align: right;\">\n",
              "      <th></th>\n",
              "      <th>index</th>\n",
              "      <th>Unnamed: 0</th>\n",
              "      <th>url</th>\n",
              "      <th>label</th>\n",
              "      <th>result</th>\n",
              "    </tr>\n",
              "  </thead>\n",
              "  <tbody>\n",
              "    <tr>\n",
              "      <th>0</th>\n",
              "      <td>345738</td>\n",
              "      <td>345738</td>\n",
              "      <td>http://atualizacaodedados.online</td>\n",
              "      <td>malicious</td>\n",
              "      <td>1</td>\n",
              "    </tr>\n",
              "    <tr>\n",
              "      <th>1</th>\n",
              "      <td>345739</td>\n",
              "      <td>345739</td>\n",
              "      <td>http://webmasteradmin.ukit.me/</td>\n",
              "      <td>malicious</td>\n",
              "      <td>1</td>\n",
              "    </tr>\n",
              "    <tr>\n",
              "      <th>2</th>\n",
              "      <td>345740</td>\n",
              "      <td>345740</td>\n",
              "      <td>http://stcdxmt.bigperl.in/klxtv/apps/uk/</td>\n",
              "      <td>malicious</td>\n",
              "      <td>1</td>\n",
              "    </tr>\n",
              "    <tr>\n",
              "      <th>3</th>\n",
              "      <td>345741</td>\n",
              "      <td>345741</td>\n",
              "      <td>https://tubuh-syarikat.com/plugins/fields/files/</td>\n",
              "      <td>malicious</td>\n",
              "      <td>1</td>\n",
              "    </tr>\n",
              "    <tr>\n",
              "      <th>4</th>\n",
              "      <td>345742</td>\n",
              "      <td>345742</td>\n",
              "      <td>http://rolyborgesmd.com/exceword/excel.php?.ra...</td>\n",
              "      <td>malicious</td>\n",
              "      <td>1</td>\n",
              "    </tr>\n",
              "    <tr>\n",
              "      <th>...</th>\n",
              "      <td>...</td>\n",
              "      <td>...</td>\n",
              "      <td>...</td>\n",
              "      <td>...</td>\n",
              "      <td>...</td>\n",
              "    </tr>\n",
              "    <tr>\n",
              "      <th>4995</th>\n",
              "      <td>350733</td>\n",
              "      <td>350733</td>\n",
              "      <td>http://wwwsn.cibadetran.portaldocooperado.com</td>\n",
              "      <td>malicious</td>\n",
              "      <td>1</td>\n",
              "    </tr>\n",
              "    <tr>\n",
              "      <th>4996</th>\n",
              "      <td>350734</td>\n",
              "      <td>350734</td>\n",
              "      <td>http://www.pousadavieiras.com.br/sqqq/boa/</td>\n",
              "      <td>malicious</td>\n",
              "      <td>1</td>\n",
              "    </tr>\n",
              "    <tr>\n",
              "      <th>4997</th>\n",
              "      <td>350735</td>\n",
              "      <td>350735</td>\n",
              "      <td>http://catherinetruskolawski.com/bright/newart...</td>\n",
              "      <td>malicious</td>\n",
              "      <td>1</td>\n",
              "    </tr>\n",
              "    <tr>\n",
              "      <th>4998</th>\n",
              "      <td>350736</td>\n",
              "      <td>350736</td>\n",
              "      <td>http://www.kasp.pp.ua/corex/access.htm</td>\n",
              "      <td>malicious</td>\n",
              "      <td>1</td>\n",
              "    </tr>\n",
              "    <tr>\n",
              "      <th>4999</th>\n",
              "      <td>350737</td>\n",
              "      <td>350737</td>\n",
              "      <td>http://www.kasp.pp.ua/corex/logon.htm</td>\n",
              "      <td>malicious</td>\n",
              "      <td>1</td>\n",
              "    </tr>\n",
              "  </tbody>\n",
              "</table>\n",
              "<p>5000 rows × 5 columns</p>\n",
              "</div>"
            ],
            "text/plain": [
              "       index  Unnamed: 0  ...      label result\n",
              "0     345738      345738  ...  malicious      1\n",
              "1     345739      345739  ...  malicious      1\n",
              "2     345740      345740  ...  malicious      1\n",
              "3     345741      345741  ...  malicious      1\n",
              "4     345742      345742  ...  malicious      1\n",
              "...      ...         ...  ...        ...    ...\n",
              "4995  350733      350733  ...  malicious      1\n",
              "4996  350734      350734  ...  malicious      1\n",
              "4997  350735      350735  ...  malicious      1\n",
              "4998  350736      350736  ...  malicious      1\n",
              "4999  350737      350737  ...  malicious      1\n",
              "\n",
              "[5000 rows x 5 columns]"
            ]
          },
          "metadata": {
            "tags": []
          },
          "execution_count": 7
        }
      ]
    },
    {
      "cell_type": "code",
      "metadata": {
        "id": "GZriL-W8OhH_",
        "colab": {
          "base_uri": "https://localhost:8080/",
          "height": 419
        },
        "outputId": "c9204f03-e88d-4928-adfc-fc4ff5f0885a"
      },
      "source": [
        "b = allurlsdata[allurlsdata[\"label\"] == \"benign\" ]\n",
        "b5k = (b.head(5000)).reset_index() #take first 5000 rows and create a dataframe\n",
        "b5k"
      ],
      "execution_count": null,
      "outputs": [
        {
          "output_type": "execute_result",
          "data": {
            "text/html": [
              "<div>\n",
              "<style scoped>\n",
              "    .dataframe tbody tr th:only-of-type {\n",
              "        vertical-align: middle;\n",
              "    }\n",
              "\n",
              "    .dataframe tbody tr th {\n",
              "        vertical-align: top;\n",
              "    }\n",
              "\n",
              "    .dataframe thead th {\n",
              "        text-align: right;\n",
              "    }\n",
              "</style>\n",
              "<table border=\"1\" class=\"dataframe\">\n",
              "  <thead>\n",
              "    <tr style=\"text-align: right;\">\n",
              "      <th></th>\n",
              "      <th>index</th>\n",
              "      <th>Unnamed: 0</th>\n",
              "      <th>url</th>\n",
              "      <th>label</th>\n",
              "      <th>result</th>\n",
              "    </tr>\n",
              "  </thead>\n",
              "  <tbody>\n",
              "    <tr>\n",
              "      <th>0</th>\n",
              "      <td>0</td>\n",
              "      <td>0</td>\n",
              "      <td>https://www.google.com</td>\n",
              "      <td>benign</td>\n",
              "      <td>0</td>\n",
              "    </tr>\n",
              "    <tr>\n",
              "      <th>1</th>\n",
              "      <td>1</td>\n",
              "      <td>1</td>\n",
              "      <td>https://www.youtube.com</td>\n",
              "      <td>benign</td>\n",
              "      <td>0</td>\n",
              "    </tr>\n",
              "    <tr>\n",
              "      <th>2</th>\n",
              "      <td>2</td>\n",
              "      <td>2</td>\n",
              "      <td>https://www.facebook.com</td>\n",
              "      <td>benign</td>\n",
              "      <td>0</td>\n",
              "    </tr>\n",
              "    <tr>\n",
              "      <th>3</th>\n",
              "      <td>3</td>\n",
              "      <td>3</td>\n",
              "      <td>https://www.baidu.com</td>\n",
              "      <td>benign</td>\n",
              "      <td>0</td>\n",
              "    </tr>\n",
              "    <tr>\n",
              "      <th>4</th>\n",
              "      <td>4</td>\n",
              "      <td>4</td>\n",
              "      <td>https://www.wikipedia.org</td>\n",
              "      <td>benign</td>\n",
              "      <td>0</td>\n",
              "    </tr>\n",
              "    <tr>\n",
              "      <th>...</th>\n",
              "      <td>...</td>\n",
              "      <td>...</td>\n",
              "      <td>...</td>\n",
              "      <td>...</td>\n",
              "      <td>...</td>\n",
              "    </tr>\n",
              "    <tr>\n",
              "      <th>4995</th>\n",
              "      <td>4995</td>\n",
              "      <td>4995</td>\n",
              "      <td>https://www.athletics.concordia.ca/</td>\n",
              "      <td>benign</td>\n",
              "      <td>0</td>\n",
              "    </tr>\n",
              "    <tr>\n",
              "      <th>4996</th>\n",
              "      <td>4996</td>\n",
              "      <td>4996</td>\n",
              "      <td>https://www.athletics.concordia.ca/intercolleg...</td>\n",
              "      <td>benign</td>\n",
              "      <td>0</td>\n",
              "    </tr>\n",
              "    <tr>\n",
              "      <th>4997</th>\n",
              "      <td>4997</td>\n",
              "      <td>4997</td>\n",
              "      <td>https://www.athletics.concordia.ca/intercolleg...</td>\n",
              "      <td>benign</td>\n",
              "      <td>0</td>\n",
              "    </tr>\n",
              "    <tr>\n",
              "      <th>4998</th>\n",
              "      <td>4998</td>\n",
              "      <td>4998</td>\n",
              "      <td>https://www.athletics.concordia.ca/intercolleg...</td>\n",
              "      <td>benign</td>\n",
              "      <td>0</td>\n",
              "    </tr>\n",
              "    <tr>\n",
              "      <th>4999</th>\n",
              "      <td>4999</td>\n",
              "      <td>4999</td>\n",
              "      <td>https://www.athletics.concordia.ca/intercolleg...</td>\n",
              "      <td>benign</td>\n",
              "      <td>0</td>\n",
              "    </tr>\n",
              "  </tbody>\n",
              "</table>\n",
              "<p>5000 rows × 5 columns</p>\n",
              "</div>"
            ],
            "text/plain": [
              "      index  Unnamed: 0  ...   label result\n",
              "0         0           0  ...  benign      0\n",
              "1         1           1  ...  benign      0\n",
              "2         2           2  ...  benign      0\n",
              "3         3           3  ...  benign      0\n",
              "4         4           4  ...  benign      0\n",
              "...     ...         ...  ...     ...    ...\n",
              "4995   4995        4995  ...  benign      0\n",
              "4996   4996        4996  ...  benign      0\n",
              "4997   4997        4997  ...  benign      0\n",
              "4998   4998        4998  ...  benign      0\n",
              "4999   4999        4999  ...  benign      0\n",
              "\n",
              "[5000 rows x 5 columns]"
            ]
          },
          "metadata": {
            "tags": []
          },
          "execution_count": 8
        }
      ]
    },
    {
      "cell_type": "code",
      "metadata": {
        "id": "MMmPGt1gPZw-",
        "colab": {
          "base_uri": "https://localhost:8080/",
          "height": 419
        },
        "outputId": "a5196c7e-1047-45a1-d324-4c41073457ca"
      },
      "source": [
        "allurlsdata = pd.concat([b5k,m5k])#concatenate both the dataset to create one single dataset\n",
        "allurlsdata = allurlsdata.sample(frac=1).reset_index(drop=True)\n",
        "allurlsdata = allurlsdata.sample(frac=1).reset_index(drop=True)\n",
        "\n",
        "filename = 'allurlsdata.sav'\n",
        "pickle.dump(allurlsdata, open(filename, 'wb'))\n",
        "\n",
        "from google.colab import files\n",
        "files.download('allurlsdata.sav')\n",
        "\n",
        "allurlsdata\n",
        "\n"
      ],
      "execution_count": null,
      "outputs": [
        {
          "output_type": "execute_result",
          "data": {
            "text/html": [
              "<div>\n",
              "<style scoped>\n",
              "    .dataframe tbody tr th:only-of-type {\n",
              "        vertical-align: middle;\n",
              "    }\n",
              "\n",
              "    .dataframe tbody tr th {\n",
              "        vertical-align: top;\n",
              "    }\n",
              "\n",
              "    .dataframe thead th {\n",
              "        text-align: right;\n",
              "    }\n",
              "</style>\n",
              "<table border=\"1\" class=\"dataframe\">\n",
              "  <thead>\n",
              "    <tr style=\"text-align: right;\">\n",
              "      <th></th>\n",
              "      <th>index</th>\n",
              "      <th>Unnamed: 0</th>\n",
              "      <th>url</th>\n",
              "      <th>label</th>\n",
              "      <th>result</th>\n",
              "    </tr>\n",
              "  </thead>\n",
              "  <tbody>\n",
              "    <tr>\n",
              "      <th>0</th>\n",
              "      <td>4801</td>\n",
              "      <td>4801</td>\n",
              "      <td>https://www.askye.wordpress.com/2007/08/05/fam...</td>\n",
              "      <td>benign</td>\n",
              "      <td>0</td>\n",
              "    </tr>\n",
              "    <tr>\n",
              "      <th>1</th>\n",
              "      <td>2769</td>\n",
              "      <td>2769</td>\n",
              "      <td>https://www.archiver.rootsweb.ancestry.com/th/...</td>\n",
              "      <td>benign</td>\n",
              "      <td>0</td>\n",
              "    </tr>\n",
              "    <tr>\n",
              "      <th>2</th>\n",
              "      <td>2817</td>\n",
              "      <td>2817</td>\n",
              "      <td>https://www.archiver.rootsweb.ancestry.com/th/...</td>\n",
              "      <td>benign</td>\n",
              "      <td>0</td>\n",
              "    </tr>\n",
              "    <tr>\n",
              "      <th>3</th>\n",
              "      <td>346113</td>\n",
              "      <td>346113</td>\n",
              "      <td>https://fb-secure-2018.000webhostapp.com/recov...</td>\n",
              "      <td>malicious</td>\n",
              "      <td>1</td>\n",
              "    </tr>\n",
              "    <tr>\n",
              "      <th>4</th>\n",
              "      <td>347048</td>\n",
              "      <td>347048</td>\n",
              "      <td>http://d14bullion.com/og/sky/index.php</td>\n",
              "      <td>malicious</td>\n",
              "      <td>1</td>\n",
              "    </tr>\n",
              "    <tr>\n",
              "      <th>...</th>\n",
              "      <td>...</td>\n",
              "      <td>...</td>\n",
              "      <td>...</td>\n",
              "      <td>...</td>\n",
              "      <td>...</td>\n",
              "    </tr>\n",
              "    <tr>\n",
              "      <th>9995</th>\n",
              "      <td>4819</td>\n",
              "      <td>4819</td>\n",
              "      <td>https://www.aspecialthing.com/forum/f27/check-...</td>\n",
              "      <td>benign</td>\n",
              "      <td>0</td>\n",
              "    </tr>\n",
              "    <tr>\n",
              "      <th>9996</th>\n",
              "      <td>348355</td>\n",
              "      <td>348355</td>\n",
              "      <td>http://www.salintoshourt.com/wp-boa/e31003deee...</td>\n",
              "      <td>malicious</td>\n",
              "      <td>1</td>\n",
              "    </tr>\n",
              "    <tr>\n",
              "      <th>9997</th>\n",
              "      <td>2290</td>\n",
              "      <td>2290</td>\n",
              "      <td>https://www.focus.cn</td>\n",
              "      <td>benign</td>\n",
              "      <td>0</td>\n",
              "    </tr>\n",
              "    <tr>\n",
              "      <th>9998</th>\n",
              "      <td>4380</td>\n",
              "      <td>4380</td>\n",
              "      <td>https://www.artists.letssingit.com/gwen-stefan...</td>\n",
              "      <td>benign</td>\n",
              "      <td>0</td>\n",
              "    </tr>\n",
              "    <tr>\n",
              "      <th>9999</th>\n",
              "      <td>349786</td>\n",
              "      <td>349786</td>\n",
              "      <td>http://www.zahabconfectionery.com.au/access/</td>\n",
              "      <td>malicious</td>\n",
              "      <td>1</td>\n",
              "    </tr>\n",
              "  </tbody>\n",
              "</table>\n",
              "<p>10000 rows × 5 columns</p>\n",
              "</div>"
            ],
            "text/plain": [
              "       index  Unnamed: 0  ...      label result\n",
              "0       4801        4801  ...     benign      0\n",
              "1       2769        2769  ...     benign      0\n",
              "2       2817        2817  ...     benign      0\n",
              "3     346113      346113  ...  malicious      1\n",
              "4     347048      347048  ...  malicious      1\n",
              "...      ...         ...  ...        ...    ...\n",
              "9995    4819        4819  ...     benign      0\n",
              "9996  348355      348355  ...  malicious      1\n",
              "9997    2290        2290  ...     benign      0\n",
              "9998    4380        4380  ...     benign      0\n",
              "9999  349786      349786  ...  malicious      1\n",
              "\n",
              "[10000 rows x 5 columns]"
            ]
          },
          "metadata": {
            "tags": []
          },
          "execution_count": 26
        }
      ]
    },
    {
      "cell_type": "code",
      "metadata": {
        "id": "3ilZyN2e-a1I",
        "colab": {
          "base_uri": "https://localhost:8080/",
          "height": 938
        },
        "outputId": "d490a1b3-e832-4642-f954-6f3f3999105e"
      },
      "source": [
        "#train the tokenizer\n",
        "Tfidf_vect = TfidfVectorizer(tokenizer=getTokens)\n",
        "#fit the tokenizer\n",
        "Tfidf_vect.fit(allurlsdata['url'])\n",
        "\n",
        "#transform the url data into vectors\n",
        "X = Tfidf_vect.transform(allurlsdata['url'])\n",
        "print(X)\n",
        "\n",
        "#save file\n",
        "filename = 'tokenizer.sav'\n",
        "pickle.dump(Tfidf_vect, open(filename, 'wb'))\n",
        "\n",
        "from google.colab import files\n",
        "files.download('tokenizer.sav')"
      ],
      "execution_count": null,
      "outputs": [
        {
          "output_type": "stream",
          "text": [
            "/usr/local/lib/python3.6/dist-packages/sklearn/feature_extraction/text.py:507: UserWarning: The parameter 'token_pattern' will not be used since 'tokenizer' is not None'\n",
            "  warnings.warn(\"The parameter 'token_pattern' will not be used\"\n"
          ],
          "name": "stderr"
        },
        {
          "output_type": "stream",
          "text": [
            "  (0, 23284)\t0.7046453070532828\n",
            "  (0, 21342)\t0.11017088179713781\n",
            "  (0, 10231)\t0.6533257881194882\n",
            "  (0, 6826)\t0.21333033894924944\n",
            "  (0, 4830)\t0.11623795485498711\n",
            "  (0, 0)\t0.07403841546659279\n",
            "  (1, 25157)\t0.4183940509074695\n",
            "  (1, 21342)\t0.07395221089189398\n",
            "  (1, 20692)\t0.4183940509074695\n",
            "  (1, 11401)\t0.25711349906546477\n",
            "  (1, 9993)\t0.4183940509074695\n",
            "  (1, 9992)\t0.3982431280795975\n",
            "  (1, 4829)\t0.09112973446536853\n",
            "  (1, 2212)\t0.47299320384074073\n",
            "  (1, 26)\t0.10083781557443759\n",
            "  (1, 0)\t0.04969829074046116\n",
            "  (2, 23840)\t0.6813048962187198\n",
            "  (2, 21342)\t0.10652162220878604\n",
            "  (2, 12982)\t0.6813048962187198\n",
            "  (2, 6826)\t0.20626406361226557\n",
            "  (2, 4830)\t0.11238773178001867\n",
            "  (2, 0)\t0.07158599434460032\n",
            "  (3, 25130)\t0.4906234163666401\n",
            "  (3, 21342)\t0.0767086843130707\n",
            "  (3, 20542)\t0.4906234163666401\n",
            "  :\t:\n",
            "  (9996, 0)\t0.06818984409747006\n",
            "  (9997, 19049)\t0.3646613086667649\n",
            "  (9997, 19039)\t0.2694504863165899\n",
            "  (9997, 18610)\t0.3295530304137267\n",
            "  (9997, 16881)\t0.26638359765846575\n",
            "  (9997, 16330)\t0.3646613086667649\n",
            "  (9997, 15415)\t0.1753190495290692\n",
            "  (9997, 7307)\t0.21401083982073482\n",
            "  (9997, 4829)\t0.0702578556282709\n",
            "  (9997, 3304)\t0.3646613086667649\n",
            "  (9997, 3161)\t0.3646613086667649\n",
            "  (9997, 3160)\t0.3646613086667649\n",
            "  (9997, 0)\t0.038315653571250996\n",
            "  (9998, 23899)\t0.6813048962187198\n",
            "  (9998, 21342)\t0.10652162220878604\n",
            "  (9998, 13202)\t0.6813048962187198\n",
            "  (9998, 6826)\t0.20626406361226557\n",
            "  (9998, 4830)\t0.11238773178001867\n",
            "  (9998, 0)\t0.07158599434460032\n",
            "  (9999, 23311)\t0.6571662154238497\n",
            "  (9999, 21342)\t0.10274755357883716\n",
            "  (9999, 10287)\t0.33043666096296387\n",
            "  (9999, 6687)\t0.6571662154238497\n",
            "  (9999, 4830)\t0.10840582647190468\n",
            "  (9999, 0)\t0.06904969748770388\n"
          ],
          "name": "stdout"
        }
      ]
    },
    {
      "cell_type": "code",
      "metadata": {
        "id": "k2zlMhiP-c6x",
        "colab": {
          "base_uri": "https://localhost:8080/",
          "height": 238
        },
        "outputId": "70589074-262a-4cf1-e580-32643ef24097"
      },
      "source": [
        "#this section will turn the labels into 0 and 1\n",
        "#0 for benign\n",
        "#1 for malicious\n",
        "from sklearn.preprocessing import LabelEncoder\n",
        "Encoder = LabelEncoder()\n",
        "y = Encoder.fit_transform(allurlsdata['label'])\n",
        "print(y)\n",
        "print(allurlsdata[\"label\"])"
      ],
      "execution_count": null,
      "outputs": [
        {
          "output_type": "stream",
          "text": [
            "[0 1 0 ... 1 0 0]\n",
            "0          benign\n",
            "1       malicious\n",
            "2          benign\n",
            "3          benign\n",
            "4          benign\n",
            "          ...    \n",
            "9995    malicious\n",
            "9996       benign\n",
            "9997    malicious\n",
            "9998       benign\n",
            "9999       benign\n",
            "Name: label, Length: 10000, dtype: object\n"
          ],
          "name": "stdout"
        }
      ]
    },
    {
      "cell_type": "code",
      "metadata": {
        "id": "PehJXKHV_evh"
      },
      "source": [
        "#split into train test data\n",
        "X_train, X_test, y_train, y_test = train_test_split(X, y, test_size=0.5, random_state=42)"
      ],
      "execution_count": null,
      "outputs": []
    },
    {
      "cell_type": "code",
      "metadata": {
        "id": "9ZC0bRegEikp",
        "colab": {
          "base_uri": "https://localhost:8080/",
          "height": 34
        },
        "outputId": "d95e70ac-c62c-44d5-c9eb-ec6e46bc1213"
      },
      "source": [
        "## training - LogisticRegression\n",
        "logisticRegr = LogisticRegression()\n",
        "logisticRegr.fit(X_train,y_train)\n",
        "\n",
        "# predict the labels on validation dataset\n",
        "predictions_LR = logisticRegr.predict(X_test)\n",
        "# Use accuracy_score function to get the accuracy\n",
        "print(\"LR Accuracy Score -> \",accuracy_score(predictions_LR, y_test)*100)"
      ],
      "execution_count": null,
      "outputs": [
        {
          "output_type": "stream",
          "text": [
            "LR Accuracy Score ->  99.32\n"
          ],
          "name": "stdout"
        }
      ]
    },
    {
      "cell_type": "code",
      "metadata": {
        "id": "wB-6nJjiFr-u",
        "colab": {
          "base_uri": "https://localhost:8080/",
          "height": 34
        },
        "outputId": "476b16bc-180f-43d5-d895-9278a7cd4757"
      },
      "source": [
        "# fit the training dataset on the NB classifier\n",
        "Naive = naive_bayes.MultinomialNB()\n",
        "Naive.fit(X_train,y_train)\n",
        "# predict the labels on validation dataset\n",
        "predictions_NB = Naive.predict(X_test)\n",
        "# Use accuracy_score function to get the accuracy\n",
        "print(\"Naive Bayes Accuracy Score -> \",accuracy_score(predictions_NB, y_test)*100)"
      ],
      "execution_count": null,
      "outputs": [
        {
          "output_type": "stream",
          "text": [
            "Naive Bayes Accuracy Score ->  98.9\n"
          ],
          "name": "stdout"
        }
      ]
    },
    {
      "cell_type": "code",
      "metadata": {
        "id": "SB6JmN6IGqBg",
        "colab": {
          "base_uri": "https://localhost:8080/",
          "height": 34
        },
        "outputId": "04fa0a00-12a0-48a7-b4c6-a48e94643117"
      },
      "source": [
        "## training - RandomForestClassifier\n",
        "rfc = RandomForestClassifier()\n",
        "rfc.fit(X_train,y_train)\n",
        "\n",
        "# predict the labels on validation dataset\n",
        "predictions_RFC = rfc.predict(X_test)\n",
        "# Use accuracy_score function to get the accuracy\n",
        "print(\"RFC Accuracy Score -> \",accuracy_score(predictions_RFC, y_test)*100)"
      ],
      "execution_count": null,
      "outputs": [
        {
          "output_type": "stream",
          "text": [
            "RFC Accuracy Score ->  99.56\n"
          ],
          "name": "stdout"
        }
      ]
    },
    {
      "cell_type": "code",
      "metadata": {
        "id": "fQfwSHD6SqMV"
      },
      "source": [
        "#Save all the models\n",
        "filename = 'naive_url.sav'\n",
        "pickle.dump(Naive, open(filename, 'wb'))\n",
        "filename = 'RFC_url.sav'\n",
        "pickle.dump(rfc, open(filename, 'wb'))\n",
        "filename = 'LogReg_url.sav'\n",
        "pickle.dump(logisticRegr, open(filename, 'wb'))"
      ],
      "execution_count": null,
      "outputs": []
    },
    {
      "cell_type": "code",
      "metadata": {
        "id": "4V-4ZmZ7UYGR"
      },
      "source": [
        "from google.colab import files\n",
        "files.download('naive_url.sav')\n",
        "files.download('LogReg_url.sav')\n",
        "files.download('RFC_url.sav')"
      ],
      "execution_count": null,
      "outputs": []
    },
    {
      "cell_type": "code",
      "metadata": {
        "id": "UoiNWwYaUuoz"
      },
      "source": [
        ""
      ],
      "execution_count": null,
      "outputs": []
    }
  ]
}